{
 "cells": [
  {
   "cell_type": "markdown",
   "id": "3be1973c",
   "metadata": {},
   "source": [
    "DyslexiaLens"
   ]
  },
  {
   "cell_type": "markdown",
   "id": "4e1437d4",
   "metadata": {},
   "source": [
    "Text Ingestion"
   ]
  },
  {
   "cell_type": "code",
   "execution_count": 24,
   "id": "d6e6dd59",
   "metadata": {},
   "outputs": [],
   "source": [
    "#text = input(Text Input: )\n",
    "text = \"\"\"In many cities today, large construction projects often make life harder for poor and vulnerable people. These projects can push people out of their homes and make it harder to get basic services like water, transport, or healthcare.\n",
    "Although city planners say they want to build in a fair and sustainable way, they often focus more on money than on including everyone in the process. As a result, the needs of the most at-risk communities are often ignored.\"\"\"\n"
   ]
  },
  {
   "cell_type": "markdown",
   "id": "019e65f5",
   "metadata": {},
   "source": [
    "Preprocessing"
   ]
  },
  {
   "cell_type": "markdown",
   "id": "d3f4e567",
   "metadata": {},
   "source": [
    "1. Text Cleaning"
   ]
  },
  {
   "cell_type": "code",
   "execution_count": 25,
   "id": "82ff3075",
   "metadata": {},
   "outputs": [],
   "source": [
    "import ftfy\n",
    "import re"
   ]
  },
  {
   "cell_type": "code",
   "execution_count": 26,
   "id": "dde79d02",
   "metadata": {},
   "outputs": [],
   "source": [
    "def clean_text(text):\n",
    "\n",
    "    #to clear the encoding issues\n",
    "    text = ftfy.fix_text(text)\n",
    "\n",
    "    #to remove the non printable letters\n",
    "    text = ''.join(c for c in text if c.isprintable())\n",
    "    \n",
    "    #to remove the extra spaces\n",
    "    text = re.sub(r'[\\r\\n]+', '\\n', text)\n",
    "    text = re.sub(r'\\s{2,}', ' ', text)\n",
    "\n",
    "    return text.strip()"
   ]
  },
  {
   "cell_type": "code",
   "execution_count": 27,
   "id": "452b0cef",
   "metadata": {},
   "outputs": [],
   "source": [
    "cleanText = clean_text(text)"
   ]
  },
  {
   "cell_type": "markdown",
   "id": "8557341c",
   "metadata": {},
   "source": [
    "2. Segmentation"
   ]
  },
  {
   "cell_type": "code",
   "execution_count": 28,
   "id": "1b9d3c65",
   "metadata": {},
   "outputs": [
    {
     "name": "stderr",
     "output_type": "stream",
     "text": [
      "[nltk_data] Downloading package punkt to\n",
      "[nltk_data]     /home/prathoseraaj-v/nltk_data...\n",
      "[nltk_data]   Package punkt is already up-to-date!\n"
     ]
    },
    {
     "data": {
      "text/plain": [
       "True"
      ]
     },
     "execution_count": 28,
     "metadata": {},
     "output_type": "execute_result"
    }
   ],
   "source": [
    "import nltk \n",
    "nltk.download('punkt')"
   ]
  },
  {
   "cell_type": "code",
   "execution_count": 29,
   "id": "24c45f78",
   "metadata": {},
   "outputs": [],
   "source": [
    "def segmentation_text(text):\n",
    "    paragraph = [p for p in text.split('\\n') if p.strip()]\n",
    "    sentance = []\n",
    "\n",
    "    for para in paragraph:\n",
    "        sentance.extend(nltk.sent_tokenize(para))\n",
    "\n",
    "    tokens = [nltk.word_tokenize(sent) for sent in sentance]\n",
    "    return {\n",
    "        'paragraph': paragraph,\n",
    "        'sentences': sentance,\n",
    "        'tokens': tokens,\n",
    "    }"
   ]
  },
  {
   "cell_type": "code",
   "execution_count": 30,
   "id": "4936eff7",
   "metadata": {},
   "outputs": [],
   "source": [
    "preprocessed_text = segmentation_text(text)"
   ]
  },
  {
   "cell_type": "markdown",
   "id": "aa6e782c",
   "metadata": {},
   "source": [
    "Readability Assesment"
   ]
  },
  {
   "cell_type": "code",
   "execution_count": 31,
   "id": "b3746543",
   "metadata": {},
   "outputs": [
    {
     "name": "stdout",
     "output_type": "stream",
     "text": [
      "In many cities today, large construction projects often make life harder for poor and vulnerable people. These projects can push people out of their homes and make it harder to get basic services like water, transport, or healthcare. Although city planners say they want to build in a fair and sustainable way, they often focus more on money than on including everyone in the process. As a result, the needs of the most at-risk communities are often ignored.\n",
      "['In many cities today, large construction projects often make life harder for poor and vulnerable people.', 'These projects can push people out of their homes and make it harder to get basic services like water, transport, or healthcare.', 'Although city planners say they want to build in a fair and sustainable way, they often focus more on money than on including everyone in the process.', 'As a result, the needs of the most at-risk communities are often ignored.']\n"
     ]
    }
   ],
   "source": [
    "full_text = \" \".join(preprocessed_text[\"paragraph\"])\n",
    "sentences = preprocessed_text[\"sentences\"]\n",
    "\n",
    "print(full_text)\n",
    "print(sentences)"
   ]
  },
  {
   "cell_type": "code",
   "execution_count": 32,
   "id": "8975d9c0",
   "metadata": {},
   "outputs": [],
   "source": [
    "import spacy"
   ]
  },
  {
   "cell_type": "code",
   "execution_count": 33,
   "id": "0a8ae578",
   "metadata": {},
   "outputs": [],
   "source": [
    "nlp = spacy.load(\"en_core_web_sm\")"
   ]
  },
  {
   "cell_type": "markdown",
   "id": "b26940d6",
   "metadata": {},
   "source": [
    "1. Readability Score"
   ]
  },
  {
   "cell_type": "code",
   "execution_count": 34,
   "id": "40c7d5b3",
   "metadata": {},
   "outputs": [],
   "source": [
    "import textstat"
   ]
  },
  {
   "cell_type": "code",
   "execution_count": 35,
   "id": "fb5e2523",
   "metadata": {},
   "outputs": [],
   "source": [
    "def readability_score(text):\n",
    "    return{\n",
    "        \"flesch_reading_ease\" : textstat.flesch_reading_ease(text),\n",
    "        \"flesch_kincaid_grade\" : textstat.flesch_kincaid_grade(text),\n",
    "        \"gunning_fog\": textstat.gunning_fog(text),\n",
    "        \"smog_index\": textstat.smog_index(text),\n",
    "        \"coleman_liau_index\" : textstat.coleman_liau_index(text),\n",
    "        \"automated_readability_index\" : textstat.automated_readability_index(text),\n",
    "        \"dale_chall_readability_score\" : textstat.dale_chall_readability_score(text), \n",
    "            }"
   ]
  },
  {
   "cell_type": "code",
   "execution_count": 36,
   "id": "0dfd7f45",
   "metadata": {},
   "outputs": [
    {
     "data": {
      "text/plain": [
       "{'flesch_reading_ease': 57.97326923076926,\n",
       " 'flesch_kincaid_grade': 10.017564102564105,\n",
       " 'gunning_fog': 10.876923076923077,\n",
       " 'smog_index': 10.686352973137792,\n",
       " 'coleman_liau_index': 10.26923076923077,\n",
       " 'automated_readability_index': 11.326538461538462,\n",
       " 'dale_chall_readability_score': 9.259725641025641}"
      ]
     },
     "execution_count": 36,
     "metadata": {},
     "output_type": "execute_result"
    }
   ],
   "source": [
    "readability_score(text)"
   ]
  },
  {
   "cell_type": "markdown",
   "id": "b39ed2ec",
   "metadata": {},
   "source": [
    "2. Detect long sentance"
   ]
  },
  {
   "cell_type": "code",
   "execution_count": 37,
   "id": "d22a4127",
   "metadata": {},
   "outputs": [],
   "source": [
    "def detect_long_sentance(sentances, threshold=25):\n",
    "    return [sent for sent in sentances if len(sent.split()) > threshold]"
   ]
  },
  {
   "cell_type": "markdown",
   "id": "e75e5dcf",
   "metadata": {},
   "source": [
    "3. Detect passive voice"
   ]
  },
  {
   "cell_type": "code",
   "execution_count": 38,
   "id": "c113e96f",
   "metadata": {},
   "outputs": [],
   "source": [
    "import spacy"
   ]
  },
  {
   "cell_type": "code",
   "execution_count": 39,
   "id": "4f3c8dea",
   "metadata": {},
   "outputs": [],
   "source": [
    "def detect_passive_voice(sentences):\n",
    "    passive_sentences = []\n",
    "\n",
    "    for sent in sentences:\n",
    "        doc = nlp(sent)\n",
    "        for token in doc:\n",
    "            if token.dep_ == \"nsubjpass\":\n",
    "                passive_sentences.append(sent)\n",
    "                break\n",
    "\n",
    "    return passive_sentences"
   ]
  },
  {
   "cell_type": "markdown",
   "id": "67e4b22f",
   "metadata": {},
   "source": [
    "4. Detect ambigious structures"
   ]
  },
  {
   "cell_type": "code",
   "execution_count": 40,
   "id": "045c2f62",
   "metadata": {},
   "outputs": [],
   "source": [
    "def detect_ambiguous_structures(sentences):\n",
    "    ambiguous_keywords = [\"might\", \"could\", \"possibly\", \"maybe\", \"potentially\", \"approximately\", \"suggests\", \"appears\"]\n",
    "    return [sent for sent in sentences if any(word in sent.lower() for word in ambiguous_keywords)]"
   ]
  }
 ],
 "metadata": {
  "kernelspec": {
   "display_name": ".venv (3.12.3)",
   "language": "python",
   "name": "python3"
  },
  "language_info": {
   "codemirror_mode": {
    "name": "ipython",
    "version": 3
   },
   "file_extension": ".py",
   "mimetype": "text/x-python",
   "name": "python",
   "nbconvert_exporter": "python",
   "pygments_lexer": "ipython3",
   "version": "3.12.3"
  }
 },
 "nbformat": 4,
 "nbformat_minor": 5
}
