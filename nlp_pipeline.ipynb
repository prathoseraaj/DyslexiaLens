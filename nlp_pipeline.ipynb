{
 "cells": [
  {
   "cell_type": "markdown",
   "id": "3be1973c",
   "metadata": {},
   "source": [
    "DyslexiaLens"
   ]
  },
  {
   "cell_type": "markdown",
   "id": "4e1437d4",
   "metadata": {},
   "source": [
    "Text Ingestion"
   ]
  },
  {
   "cell_type": "code",
   "execution_count": 55,
   "id": "d6e6dd59",
   "metadata": {},
   "outputs": [],
   "source": [
    "#text = input(Text Input: )\n",
    "text = \"\"\"Pursuant to the overarching objectives articulated within the Strategic Urban Development Framework, municipal authorities have commenced implementation of multifaceted infrastructural initiatives intended to augment both intermodal connectivity and socioeconomic inclusivity. The preliminary phase encompasses the recalibration of extant transportation modalities, the optimization of resource allocation protocols, and the systemic integration of public-private partnerships to facilitate sustainable urban growth trajectories. Notwithstanding the ostensible commitment to participatory governance paradigms, stakeholder engagement mechanisms have, in practice, predominantly prioritized fiscal imperatives and regulatory compliance over transparent community empowerment. Consequently, marginalized demographics continue to encounter disproportionate barriers to accessing essential civic services, despite nominal adherence to equity-centric policy mandates.\"\"\"\n"
   ]
  },
  {
   "cell_type": "markdown",
   "id": "019e65f5",
   "metadata": {},
   "source": [
    "Preprocessing"
   ]
  },
  {
   "cell_type": "markdown",
   "id": "d3f4e567",
   "metadata": {},
   "source": [
    "1. Text Cleaning"
   ]
  },
  {
   "cell_type": "code",
   "execution_count": 56,
   "id": "82ff3075",
   "metadata": {},
   "outputs": [],
   "source": [
    "import ftfy\n",
    "import re"
   ]
  },
  {
   "cell_type": "code",
   "execution_count": 57,
   "id": "dde79d02",
   "metadata": {},
   "outputs": [],
   "source": [
    "def clean_text(text):\n",
    "\n",
    "    #to clear the encoding issues\n",
    "    text = ftfy.fix_text(text)\n",
    "\n",
    "    #to remove the non printable letters\n",
    "    text = ''.join(c for c in text if c.isprintable())\n",
    "    \n",
    "    #to remove the extra spaces\n",
    "    text = re.sub(r'[\\r\\n]+', '\\n', text)\n",
    "    text = re.sub(r'\\s{2,}', ' ', text)\n",
    "\n",
    "    return text.strip()"
   ]
  },
  {
   "cell_type": "code",
   "execution_count": 58,
   "id": "452b0cef",
   "metadata": {},
   "outputs": [],
   "source": [
    "cleanText = clean_text(text)"
   ]
  },
  {
   "cell_type": "markdown",
   "id": "8557341c",
   "metadata": {},
   "source": [
    "2. Segmentation"
   ]
  },
  {
   "cell_type": "code",
   "execution_count": 59,
   "id": "1b9d3c65",
   "metadata": {},
   "outputs": [
    {
     "name": "stderr",
     "output_type": "stream",
     "text": [
      "[nltk_data] Downloading package punkt to\n",
      "[nltk_data]     /home/prathoseraaj-v/nltk_data...\n",
      "[nltk_data]   Package punkt is already up-to-date!\n"
     ]
    },
    {
     "data": {
      "text/plain": [
       "True"
      ]
     },
     "execution_count": 59,
     "metadata": {},
     "output_type": "execute_result"
    }
   ],
   "source": [
    "import nltk \n",
    "nltk.download('punkt')"
   ]
  },
  {
   "cell_type": "code",
   "execution_count": 60,
   "id": "24c45f78",
   "metadata": {},
   "outputs": [],
   "source": [
    "def segmentation_text(text):\n",
    "    paragraph = [p for p in text.split('\\n') if p.strip()]\n",
    "    sentance = []\n",
    "\n",
    "    for para in paragraph:\n",
    "        sentance.extend(nltk.sent_tokenize(para))\n",
    "\n",
    "    tokens = [nltk.word_tokenize(sent) for sent in sentance]\n",
    "    return {\n",
    "        'paragraph': paragraph,\n",
    "        'sentences': sentance,\n",
    "        'tokens': tokens,\n",
    "    }"
   ]
  },
  {
   "cell_type": "code",
   "execution_count": 61,
   "id": "4936eff7",
   "metadata": {},
   "outputs": [],
   "source": [
    "preprocessed_text = segmentation_text(text)"
   ]
  },
  {
   "cell_type": "markdown",
   "id": "aa6e782c",
   "metadata": {},
   "source": [
    "Readability Assesment"
   ]
  },
  {
   "cell_type": "code",
   "execution_count": 62,
   "id": "91873536",
   "metadata": {},
   "outputs": [
    {
     "name": "stdout",
     "output_type": "stream",
     "text": [
      "Pursuant to the overarching objectives articulated within the Strategic Urban Development Framework, municipal authorities have commenced implementation of multifaceted infrastructural initiatives intended to augment both intermodal connectivity and socioeconomic inclusivity. The preliminary phase encompasses the recalibration of extant transportation modalities, the optimization of resource allocation protocols, and the systemic integration of public-private partnerships to facilitate sustainable urban growth trajectories. Notwithstanding the ostensible commitment to participatory governance paradigms, stakeholder engagement mechanisms have, in practice, predominantly prioritized fiscal imperatives and regulatory compliance over transparent community empowerment. Consequently, marginalized demographics continue to encounter disproportionate barriers to accessing essential civic services, despite nominal adherence to equity-centric policy mandates.\n",
      "['Pursuant to the overarching objectives articulated within the Strategic Urban Development Framework, municipal authorities have commenced implementation of multifaceted infrastructural initiatives intended to augment both intermodal connectivity and socioeconomic inclusivity.', 'The preliminary phase encompasses the recalibration of extant transportation modalities, the optimization of resource allocation protocols, and the systemic integration of public-private partnerships to facilitate sustainable urban growth trajectories.', 'Notwithstanding the ostensible commitment to participatory governance paradigms, stakeholder engagement mechanisms have, in practice, predominantly prioritized fiscal imperatives and regulatory compliance over transparent community empowerment.', 'Consequently, marginalized demographics continue to encounter disproportionate barriers to accessing essential civic services, despite nominal adherence to equity-centric policy mandates.']\n"
     ]
    }
   ],
   "source": [
    "full_text = \" \".join(preprocessed_text[\"paragraph\"])\n",
    "sentences = preprocessed_text[\"sentences\"]\n",
    "\n",
    "print(full_text)\n",
    "print(sentences)"
   ]
  },
  {
   "cell_type": "code",
   "execution_count": 63,
   "id": "8975d9c0",
   "metadata": {},
   "outputs": [],
   "source": [
    "import spacy"
   ]
  },
  {
   "cell_type": "code",
   "execution_count": 64,
   "id": "0a8ae578",
   "metadata": {},
   "outputs": [],
   "source": [
    "nlp = spacy.load(\"en_core_web_sm\")"
   ]
  },
  {
   "cell_type": "markdown",
   "id": "b26940d6",
   "metadata": {},
   "source": [
    "1. Readability Score"
   ]
  },
  {
   "cell_type": "code",
   "execution_count": 65,
   "id": "40c7d5b3",
   "metadata": {},
   "outputs": [],
   "source": [
    "import textstat"
   ]
  },
  {
   "cell_type": "code",
   "execution_count": 66,
   "id": "fb5e2523",
   "metadata": {},
   "outputs": [],
   "source": [
    "def readability_score(text):\n",
    "    return{\n",
    "        \"flesch_reading_ease\" : textstat.flesch_reading_ease(text),\n",
    "        \"flesch_kincaid_grade\" : textstat.flesch_kincaid_grade(text),\n",
    "        \"gunning_fog\": textstat.gunning_fog(text),\n",
    "        \"smog_index\": textstat.smog_index(text),\n",
    "        \"coleman_liau_index\" : textstat.coleman_liau_index(text),\n",
    "        \"automated_readability_index\" : textstat.automated_readability_index(text),\n",
    "        \"dale_chall_readability_score\" : textstat.dale_chall_readability_score(text),\n",
    "        \"difficult_words_count\" : textstat.difficult_words(text),\n",
    "        \"difficult_words_list\" : textstat.difficult_words_list(text),\n",
    "        }"
   ]
  },
  {
   "cell_type": "code",
   "execution_count": 67,
   "id": "0dfd7f45",
   "metadata": {},
   "outputs": [
    {
     "data": {
      "text/plain": [
       "{'flesch_reading_ease': -64.40692307692302,\n",
       " 'flesch_kincaid_grade': 28.701923076923077,\n",
       " 'gunning_fog': 34.63076923076923,\n",
       " 'smog_index': 25.800858919413376,\n",
       " 'coleman_liau_index': 30.186538461538458,\n",
       " 'automated_readability_index': 30.472788461538464,\n",
       " 'dale_chall_readability_score': 16.7686,\n",
       " 'difficult_words_count': 76,\n",
       " 'difficult_words_list': ['implementation',\n",
       "  'despite',\n",
       "  'stakeholder',\n",
       "  'policy',\n",
       "  'equitycentric',\n",
       "  'Urban',\n",
       "  'Notwithstanding',\n",
       "  'commitment',\n",
       "  'nominal',\n",
       "  'adherence',\n",
       "  'encompasses',\n",
       "  'practice',\n",
       "  'objectives',\n",
       "  'transparent',\n",
       "  'participatory',\n",
       "  'partnerships',\n",
       "  'publicprivate',\n",
       "  'recalibration',\n",
       "  'initiatives',\n",
       "  'urban',\n",
       "  'governance',\n",
       "  'extant',\n",
       "  'integration',\n",
       "  'authorities',\n",
       "  'continue',\n",
       "  'facilitate',\n",
       "  'imperatives',\n",
       "  'Development',\n",
       "  'intended',\n",
       "  'Framework',\n",
       "  'allocation',\n",
       "  'compliance',\n",
       "  'intermodal',\n",
       "  'commenced',\n",
       "  'transportation',\n",
       "  'within',\n",
       "  'systemic',\n",
       "  'engagement',\n",
       "  'accessing',\n",
       "  'articulated',\n",
       "  'mechanisms',\n",
       "  'Consequently',\n",
       "  'essential',\n",
       "  'demographics',\n",
       "  'encounter',\n",
       "  'services',\n",
       "  'augment',\n",
       "  'civic',\n",
       "  'trajectories',\n",
       "  'multifaceted',\n",
       "  'inclusivity',\n",
       "  'protocols',\n",
       "  'predominantly',\n",
       "  'marginalized',\n",
       "  'Pursuant',\n",
       "  'modalities',\n",
       "  'prioritized',\n",
       "  'community',\n",
       "  'overarching',\n",
       "  'empowerment',\n",
       "  'fiscal',\n",
       "  'optimization',\n",
       "  'disproportionate',\n",
       "  'socioeconomic',\n",
       "  'sustainable',\n",
       "  'barriers',\n",
       "  'mandates',\n",
       "  'preliminary',\n",
       "  'infrastructural',\n",
       "  'resource',\n",
       "  'ostensible',\n",
       "  'Strategic',\n",
       "  'regulatory',\n",
       "  'connectivity',\n",
       "  'paradigms',\n",
       "  'municipal']}"
      ]
     },
     "execution_count": 67,
     "metadata": {},
     "output_type": "execute_result"
    }
   ],
   "source": [
    "readability_score(text)"
   ]
  },
  {
   "cell_type": "markdown",
   "id": "b39ed2ec",
   "metadata": {},
   "source": [
    "2. Detect long sentance"
   ]
  },
  {
   "cell_type": "code",
   "execution_count": 68,
   "id": "d22a4127",
   "metadata": {},
   "outputs": [],
   "source": [
    "def detect_long_sentance(sentances, threshold=25):\n",
    "    return [sent for sent in sentances if len(sent.split()) > threshold]"
   ]
  },
  {
   "cell_type": "code",
   "execution_count": 69,
   "id": "8565580d",
   "metadata": {},
   "outputs": [
    {
     "data": {
      "text/plain": [
       "['Pursuant to the overarching objectives articulated within the Strategic Urban Development Framework, municipal authorities have commenced implementation of multifaceted infrastructural initiatives intended to augment both intermodal connectivity and socioeconomic inclusivity.',\n",
       " 'The preliminary phase encompasses the recalibration of extant transportation modalities, the optimization of resource allocation protocols, and the systemic integration of public-private partnerships to facilitate sustainable urban growth trajectories.']"
      ]
     },
     "execution_count": 69,
     "metadata": {},
     "output_type": "execute_result"
    }
   ],
   "source": [
    "detect_long_sentance(sentances=sentences)"
   ]
  },
  {
   "cell_type": "markdown",
   "id": "e75e5dcf",
   "metadata": {},
   "source": [
    "3. Detect passive voice"
   ]
  },
  {
   "cell_type": "code",
   "execution_count": 70,
   "id": "c113e96f",
   "metadata": {},
   "outputs": [],
   "source": [
    "import spacy"
   ]
  },
  {
   "cell_type": "code",
   "execution_count": 71,
   "id": "4f3c8dea",
   "metadata": {},
   "outputs": [],
   "source": [
    "def detect_passive_voice(sentences):\n",
    "    passive_sentences = []\n",
    "\n",
    "    for sent in sentences:\n",
    "        doc = nlp(sent)\n",
    "        for token in doc:\n",
    "            if token.dep_ == \"nsubjpass\":\n",
    "                passive_sentences.append(sent)\n",
    "                break\n",
    "\n",
    "    return passive_sentences"
   ]
  },
  {
   "cell_type": "code",
   "execution_count": 72,
   "id": "696b0ff9",
   "metadata": {},
   "outputs": [
    {
     "data": {
      "text/plain": [
       "['Pursuant to the overarching objectives articulated within the Strategic Urban Development Framework, municipal authorities have commenced implementation of multifaceted infrastructural initiatives intended to augment both intermodal connectivity and socioeconomic inclusivity.',\n",
       " 'The preliminary phase encompasses the recalibration of extant transportation modalities, the optimization of resource allocation protocols, and the systemic integration of public-private partnerships to facilitate sustainable urban growth trajectories.']"
      ]
     },
     "execution_count": 72,
     "metadata": {},
     "output_type": "execute_result"
    }
   ],
   "source": [
    "detect_long_sentance(sentances=sentences)"
   ]
  },
  {
   "cell_type": "markdown",
   "id": "67e4b22f",
   "metadata": {},
   "source": [
    "4. Detect ambigious structures"
   ]
  },
  {
   "cell_type": "code",
   "execution_count": 73,
   "id": "045c2f62",
   "metadata": {},
   "outputs": [],
   "source": [
    "def detect_ambiguous_structures(sentences):\n",
    "    ambiguous_keywords = [\"might\", \"could\", \"possibly\", \"maybe\", \"potentially\", \"approximately\", \"suggests\", \"appears\"]\n",
    "    return [sent for sent in sentences if any(word in sent.lower() for word in ambiguous_keywords)]"
   ]
  },
  {
   "cell_type": "code",
   "execution_count": 74,
   "id": "674a68e2",
   "metadata": {},
   "outputs": [
    {
     "data": {
      "text/plain": [
       "[]"
      ]
     },
     "execution_count": 74,
     "metadata": {},
     "output_type": "execute_result"
    }
   ],
   "source": [
    "detect_ambiguous_structures(sentences=sentences)"
   ]
  },
  {
   "cell_type": "markdown",
   "id": "92ee6580",
   "metadata": {},
   "source": [
    "5. Return the readability assesment "
   ]
  },
  {
   "cell_type": "code",
   "execution_count": 75,
   "id": "1830b6dd",
   "metadata": {},
   "outputs": [],
   "source": [
    "def assesment_data(preprocessed_text):\n",
    "\n",
    "    paragraph = \"\".join(preprocessed_text['paragraph'])\n",
    "    sentences = preprocessed_text[\"sentences\"]\n",
    "\n",
    "    return{\n",
    "        \"readability_score\" : readability_score(paragraph),\n",
    "        \"long_sentences\" : detect_long_sentance(sentences),\n",
    "        \"passive_voice\" : detect_passive_voice(sentences),\n",
    "        \"detect_ambiguous_structures\" : detect_ambiguous_structures(sentences),\n",
    "    }"
   ]
  },
  {
   "cell_type": "code",
   "execution_count": 76,
   "id": "20a162a0",
   "metadata": {},
   "outputs": [],
   "source": [
    "results = assesment_data(preprocessed_text)"
   ]
  },
  {
   "cell_type": "markdown",
   "id": "c45f4cdb",
   "metadata": {},
   "source": [
    "Text Simplification"
   ]
  },
  {
   "cell_type": "markdown",
   "id": "92c50380",
   "metadata": {},
   "source": [
    "1. Simplified Synonyms"
   ]
  },
  {
   "cell_type": "code",
   "execution_count": 77,
   "id": "89b323b9",
   "metadata": {},
   "outputs": [
    {
     "name": "stderr",
     "output_type": "stream",
     "text": [
      "[nltk_data] Downloading package wordnet to\n",
      "[nltk_data]     /home/prathoseraaj-v/nltk_data...\n",
      "[nltk_data]   Package wordnet is already up-to-date!\n"
     ]
    },
    {
     "data": {
      "text/plain": [
       "True"
      ]
     },
     "execution_count": 77,
     "metadata": {},
     "output_type": "execute_result"
    }
   ],
   "source": [
    "from nltk.corpus import wordnet\n",
    "nltk.download('wordnet')"
   ]
  },
  {
   "cell_type": "code",
   "execution_count": 78,
   "id": "1e858cf4",
   "metadata": {},
   "outputs": [],
   "source": [
    "def simplified_synonyms(word):\n",
    "    synsets = wordnet.synsets(word)\n",
    "\n",
    "    if not synsets:\n",
    "        return word\n",
    "\n",
    "    simpleword = synsets[0].lemmas()[0].name()\n",
    "\n",
    "    if simpleword.lower != word.lower:\n",
    "        return simpleword.replace('-','')\n",
    "    \n",
    "    return word"
   ]
  },
  {
   "cell_type": "markdown",
   "id": "dbb908e9",
   "metadata": {},
   "source": [
    "2. Simplify lexials"
   ]
  },
  {
   "cell_type": "code",
   "execution_count": 79,
   "id": "1c8e7dce",
   "metadata": {},
   "outputs": [],
   "source": [
    "def lexical_simplify(sentence, difficult_words):\n",
    "    words = nltk.word_tokenize(sentence)\n",
    "    simplified = []\n",
    "    for w in words:\n",
    "        if w.lower() in [dw.lower() for dw in difficult_words]:\n",
    "            simple = simplified_synonyms(w)\n",
    "            simplified.append(simple)\n",
    "        else:\n",
    "            simplified.append(w)\n",
    "            \n",
    "    return ' '.join(simplified)"
   ]
  },
  {
   "cell_type": "markdown",
   "id": "fa6572f5",
   "metadata": {},
   "source": [
    "3. Syntatic symplification"
   ]
  },
  {
   "cell_type": "code",
   "execution_count": 80,
   "id": "3ef49f8f",
   "metadata": {},
   "outputs": [],
   "source": [
    "def syntactic_simplify(sentence, max_length=20):\n",
    "    words = nltk.word_tokenize(sentence)\n",
    "    if len(words) <= max_length:\n",
    "        return sentence\n",
    "    split_points = [m.start() for m in re.finditer(r'(,| and | but )', sentence)]\n",
    "    if split_points:\n",
    "        parts = []\n",
    "        prev = 0\n",
    "        for idx in split_points:\n",
    "            parts.append(sentence[prev:idx].strip())\n",
    "            prev = idx\n",
    "        parts.append(sentence[prev:].strip())\n",
    "        return '. '.join([p for p in parts if p])\n",
    "    else:\n",
    "        midpoint = len(words) // 2\n",
    "        return ' '.join(words[:midpoint]) + '. ' + ' '.join(words[midpoint:])"
   ]
  },
  {
   "cell_type": "markdown",
   "id": "19e7eb0e",
   "metadata": {},
   "source": [
    "4. Passive Voice Parsing"
   ]
  },
  {
   "cell_type": "code",
   "execution_count": 81,
   "id": "77c37e92",
   "metadata": {},
   "outputs": [],
   "source": [
    "def paraphrase_passive(sentence):\n",
    "    m = re.match(r'(.*) (is|are|was|were) (.*) by (.*)\\.', sentence)\n",
    "    if m:\n",
    "        obj, be, verb, agent = m.groups()\n",
    "        return f\"{agent.strip()} {verb.strip()} {obj.strip()}.\"\n",
    "    return sentence"
   ]
  },
  {
   "cell_type": "markdown",
   "id": "d06aa64f",
   "metadata": {},
   "source": [
    "5. Simplification to flagged sentence"
   ]
  },
  {
   "cell_type": "code",
   "execution_count": 82,
   "id": "1bc49b88",
   "metadata": {},
   "outputs": [],
   "source": [
    "def simplify_text(results):\n",
    "    simplified = []\n",
    "    for sent in results.get(\"long_sentences\", []):\n",
    "        s = lexical_simplify(sent, results[\"readability_score\"][\"difficult_words_list\"])\n",
    "        s = syntactic_simplify(s)\n",
    "        simplified.append(s)\n",
    "    for sent in results.get(\"passive_voice\", []):\n",
    "        s = paraphrase_passive(sent)\n",
    "        simplified.append(s)\n",
    "    return simplified"
   ]
  },
  {
   "cell_type": "code",
   "execution_count": 83,
   "id": "5b70364f",
   "metadata": {},
   "outputs": [
    {
     "name": "stdout",
     "output_type": "stream",
     "text": [
      "['pursuant to the overarch aim joint inside the strategic urban development model. , municipal government have get_down execution of manysided infrastructural enterprise intend to augment both intermodal connectivity. and socioeconomic inclusivity .', 'The preliminary phase embrace the recalibration of extant transportation_system modality. , the optimization of resource allotment protocol. ,. and the systemic integration of public-private partnership to facilitate sustainable urban growth trajectory .']\n"
     ]
    }
   ],
   "source": [
    "simplified = simplify_text(results)\n",
    "print(simplified)"
   ]
  }
 ],
 "metadata": {
  "kernelspec": {
   "display_name": ".venv (3.12.3)",
   "language": "python",
   "name": "python3"
  },
  "language_info": {
   "codemirror_mode": {
    "name": "ipython",
    "version": 3
   },
   "file_extension": ".py",
   "mimetype": "text/x-python",
   "name": "python",
   "nbconvert_exporter": "python",
   "pygments_lexer": "ipython3",
   "version": "3.12.3"
  }
 },
 "nbformat": 4,
 "nbformat_minor": 5
}
