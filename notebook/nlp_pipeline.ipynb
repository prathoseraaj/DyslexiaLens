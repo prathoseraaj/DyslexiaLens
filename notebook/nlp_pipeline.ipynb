{
 "cells": [
  {
   "cell_type": "markdown",
   "id": "3be1973c",
   "metadata": {},
   "source": [
    "DyslexiaLens"
   ]
  },
  {
   "cell_type": "markdown",
   "id": "4e1437d4",
   "metadata": {},
   "source": [
    "Text Ingestion"
   ]
  },
  {
   "cell_type": "code",
   "execution_count": null,
   "id": "d6e6dd59",
   "metadata": {},
   "outputs": [],
   "source": [
    "#text = input(Text Input: )\n",
    "text = \"\"\"Urban environments are dynamic and multifaceted, shaped by the continuous interaction of diverse populations, intricate economic activities, and expansive infrastructural networks. As cities experience growth and transformation, municipal authorities must navigate the complexities of rapid development while striving to ensure the equitable allocation of resources and opportunities for all residents. Effective urban planning demands thoughtful consideration of issues such as affordable housing, the establishment of sustainable transportation systems, public health initiatives, and the stewardship of natural resources. These endeavors require the integration of data-driven decision-making, meaningful stakeholder engagement, and the adoption of adaptive policy frameworks to guarantee that vulnerable and marginalized communities are not excluded from the advantages of urban expansion.\n",
    "  \n",
    "Despite ambitious objectives and well-intentioned strategies, the implementation of inclusive urban development projects is frequently impeded by bureaucratic inefficiencies, limited financial resources, and competing political interests. Such challenges often result in delays, fragmented services, and a lack of transparency, ultimately undermining the intended impact of these initiatives. Consequently, disadvantaged groups may continue to face barriers in accessing essential services, endure substandard living conditions, and experience persistent socio-economic disparities. This ongoing reality exists in stark contrast to the professed commitment of city leaders to fostering urban spaces that are both resilient and just, highlighting the need for ongoing evaluation, innovation, and collaboration in urban governance.\"\"\"\n"
   ]
  },
  {
   "cell_type": "markdown",
   "id": "019e65f5",
   "metadata": {},
   "source": [
    "Preprocessing"
   ]
  },
  {
   "cell_type": "markdown",
   "id": "d3f4e567",
   "metadata": {},
   "source": [
    "1. Text Cleaning"
   ]
  },
  {
   "cell_type": "code",
   "execution_count": 70,
   "id": "82ff3075",
   "metadata": {},
   "outputs": [],
   "source": [
    "import ftfy\n",
    "import re"
   ]
  },
  {
   "cell_type": "code",
   "execution_count": 71,
   "id": "dde79d02",
   "metadata": {},
   "outputs": [],
   "source": [
    "def clean_text(text):\n",
    "\n",
    "    #to clear the encoding issues\n",
    "    text = ftfy.fix_text(text)\n",
    "\n",
    "    #to remove the non printable letters\n",
    "    text = ''.join(c for c in text if c.isprintable())\n",
    "    \n",
    "    #to remove the extra spaces\n",
    "    text = re.sub(r'[\\r\\n]+', '\\n', text)\n",
    "    text = re.sub(r'\\s{2,}', ' ', text)\n",
    "\n",
    "    return text.strip()"
   ]
  },
  {
   "cell_type": "code",
   "execution_count": 72,
   "id": "452b0cef",
   "metadata": {},
   "outputs": [],
   "source": [
    "cleanText = clean_text(text)"
   ]
  },
  {
   "cell_type": "markdown",
   "id": "8557341c",
   "metadata": {},
   "source": [
    "2. Segmentation"
   ]
  },
  {
   "cell_type": "code",
   "execution_count": 73,
   "id": "1b9d3c65",
   "metadata": {},
   "outputs": [
    {
     "name": "stderr",
     "output_type": "stream",
     "text": [
      "[nltk_data] Downloading package punkt to\n",
      "[nltk_data]     /home/prathoseraaj/nltk_data...\n",
      "[nltk_data]   Package punkt is already up-to-date!\n",
      "[nltk_data] Downloading package punkt_tab to\n",
      "[nltk_data]     /home/prathoseraaj/nltk_data...\n",
      "[nltk_data]   Package punkt_tab is already up-to-date!\n"
     ]
    },
    {
     "data": {
      "text/plain": [
       "True"
      ]
     },
     "execution_count": 73,
     "metadata": {},
     "output_type": "execute_result"
    }
   ],
   "source": [
    "import nltk\n",
    "nltk.download('punkt')\n",
    "nltk.download('punkt_tab')\n"
   ]
  },
  {
   "cell_type": "code",
   "execution_count": 74,
   "id": "24c45f78",
   "metadata": {},
   "outputs": [],
   "source": [
    "def segmentation_text(text):\n",
    "    paragraph = [p for p in text.split('\\n') if p.strip()]\n",
    "    sentance = []\n",
    "\n",
    "    for para in paragraph:\n",
    "        sentance.extend(nltk.sent_tokenize(para))\n",
    "\n",
    "    tokens = [nltk.word_tokenize(sent) for sent in sentance]\n",
    "    return {\n",
    "        'paragraph': paragraph,\n",
    "        'sentences': sentance,\n",
    "        'tokens': tokens,\n",
    "    }"
   ]
  },
  {
   "cell_type": "code",
   "execution_count": 75,
   "id": "4936eff7",
   "metadata": {},
   "outputs": [],
   "source": [
    "preprocessed_text = segmentation_text(text)"
   ]
  },
  {
   "cell_type": "markdown",
   "id": "aa6e782c",
   "metadata": {},
   "source": [
    "Readability Assesment"
   ]
  },
  {
   "cell_type": "code",
   "execution_count": 76,
   "id": "91873536",
   "metadata": {},
   "outputs": [
    {
     "name": "stdout",
     "output_type": "stream",
     "text": [
      "Urban environments are dynamic and multifaceted, shaped by the continuous interaction of diverse populations, intricate economic activities, and expansive infrastructural networks. As cities experience growth and transformation, municipal authorities must navigate the complexities of rapid development while striving to ensure the equitable allocation of resources and opportunities for all residents. Effective urban planning demands thoughtful consideration of issues such as affordable housing, the establishment of sustainable transportation systems, public health initiatives, and the stewardship of natural resources. These endeavors require the integration of data-driven decision-making, meaningful stakeholder engagement, and the adoption of adaptive policy frameworks to guarantee that vulnerable and marginalized communities are not excluded from the advantages of urban expansion. Despite ambitious objectives and well-intentioned strategies, the implementation of inclusive urban development projects is frequently impeded by bureaucratic inefficiencies, limited financial resources, and competing political interests. Such challenges often result in delays, fragmented services, and a lack of transparency, ultimately undermining the intended impact of these initiatives. Consequently, disadvantaged groups may continue to face barriers in accessing essential services, endure substandard living conditions, and experience persistent socio-economic disparities. This ongoing reality exists in stark contrast to the professed commitment of city leaders to fostering urban spaces that are both resilient and just, highlighting the need for ongoing evaluation, innovation, and collaboration in urban governance.\n",
      "['Urban environments are dynamic and multifaceted, shaped by the continuous interaction of diverse populations, intricate economic activities, and expansive infrastructural networks.', 'As cities experience growth and transformation, municipal authorities must navigate the complexities of rapid development while striving to ensure the equitable allocation of resources and opportunities for all residents.', 'Effective urban planning demands thoughtful consideration of issues such as affordable housing, the establishment of sustainable transportation systems, public health initiatives, and the stewardship of natural resources.', 'These endeavors require the integration of data-driven decision-making, meaningful stakeholder engagement, and the adoption of adaptive policy frameworks to guarantee that vulnerable and marginalized communities are not excluded from the advantages of urban expansion.', 'Despite ambitious objectives and well-intentioned strategies, the implementation of inclusive urban development projects is frequently impeded by bureaucratic inefficiencies, limited financial resources, and competing political interests.', 'Such challenges often result in delays, fragmented services, and a lack of transparency, ultimately undermining the intended impact of these initiatives.', 'Consequently, disadvantaged groups may continue to face barriers in accessing essential services, endure substandard living conditions, and experience persistent socio-economic disparities.', 'This ongoing reality exists in stark contrast to the professed commitment of city leaders to fostering urban spaces that are both resilient and just, highlighting the need for ongoing evaluation, innovation, and collaboration in urban governance.']\n"
     ]
    }
   ],
   "source": [
    "full_text = \" \".join(preprocessed_text[\"paragraph\"])\n",
    "sentences = preprocessed_text[\"sentences\"]\n",
    "\n",
    "print(full_text)\n",
    "print(sentences)"
   ]
  },
  {
   "cell_type": "code",
   "execution_count": 77,
   "id": "8975d9c0",
   "metadata": {},
   "outputs": [],
   "source": [
    "import spacy"
   ]
  },
  {
   "cell_type": "code",
   "execution_count": 78,
   "id": "0a8ae578",
   "metadata": {},
   "outputs": [],
   "source": [
    "nlp = spacy.load(\"en_core_web_sm\")"
   ]
  },
  {
   "cell_type": "markdown",
   "id": "b26940d6",
   "metadata": {},
   "source": [
    "1. Readability Score"
   ]
  },
  {
   "cell_type": "code",
   "execution_count": 79,
   "id": "40c7d5b3",
   "metadata": {},
   "outputs": [],
   "source": [
    "import textstat"
   ]
  },
  {
   "cell_type": "code",
   "execution_count": 80,
   "id": "fb5e2523",
   "metadata": {},
   "outputs": [],
   "source": [
    "def readability_score(text):\n",
    "    return{\n",
    "        \"flesch_reading_ease\" : textstat.flesch_reading_ease(text),\n",
    "        \"flesch_kincaid_grade\" : textstat.flesch_kincaid_grade(text),\n",
    "        \"gunning_fog\": textstat.gunning_fog(text),\n",
    "        \"smog_index\": textstat.smog_index(text),\n",
    "        \"coleman_liau_index\" : textstat.coleman_liau_index(text),\n",
    "        \"automated_readability_index\" : textstat.automated_readability_index(text),\n",
    "        \"dale_chall_readability_score\" : textstat.dale_chall_readability_score(text),\n",
    "        \"difficult_words_count\" : textstat.difficult_words(text),\n",
    "        \"difficult_words_list\" : textstat.difficult_words_list(text),\n",
    "        }"
   ]
  },
  {
   "cell_type": "code",
   "execution_count": 81,
   "id": "0dfd7f45",
   "metadata": {},
   "outputs": [
    {
     "data": {
      "text/plain": [
       "{'flesch_reading_ease': -19.15475290697674,\n",
       " 'flesch_kincaid_grade': 22.60752906976745,\n",
       " 'gunning_fog': 28.79651162790698,\n",
       " 'smog_index': 23.02143706103936,\n",
       " 'coleman_liau_index': 22.916279069767445,\n",
       " 'automated_readability_index': 25.06512790697675,\n",
       " 'dale_chall_readability_score': 14.884151162790697,\n",
       " 'difficult_words_count': 119,\n",
       " 'difficult_words_list': ['multifaceted',\n",
       "  'expansive',\n",
       "  'strategies',\n",
       "  'sustainable',\n",
       "  'barriers',\n",
       "  'decisionmaking',\n",
       "  'planning',\n",
       "  'integration',\n",
       "  'datadriven',\n",
       "  'activities',\n",
       "  'consideration',\n",
       "  'leaders',\n",
       "  'transparency',\n",
       "  'challenges',\n",
       "  'reality',\n",
       "  'exists',\n",
       "  'highlighting',\n",
       "  'innovation',\n",
       "  'environments',\n",
       "  'experience',\n",
       "  'wellintentioned',\n",
       "  'impact',\n",
       "  'systems',\n",
       "  'municipal',\n",
       "  'navigate',\n",
       "  'ongoing',\n",
       "  'ultimately',\n",
       "  'Urban',\n",
       "  'diverse',\n",
       "  'guarantee',\n",
       "  'essential',\n",
       "  'thoughtful',\n",
       "  'excluded',\n",
       "  'housing',\n",
       "  'require',\n",
       "  'competing',\n",
       "  'substandard',\n",
       "  'populations',\n",
       "  'Consequently',\n",
       "  'residents',\n",
       "  'demands',\n",
       "  'undermining',\n",
       "  'complexities',\n",
       "  'contrast',\n",
       "  'engagement',\n",
       "  'stakeholder',\n",
       "  'meaningful',\n",
       "  'commitment',\n",
       "  'impeded',\n",
       "  'collaboration',\n",
       "  'issues',\n",
       "  'result',\n",
       "  'transportation',\n",
       "  'equitable',\n",
       "  'fostering',\n",
       "  'delays',\n",
       "  'establishment',\n",
       "  'natural',\n",
       "  'persistent',\n",
       "  'intended',\n",
       "  'endure',\n",
       "  'resources',\n",
       "  'transformation',\n",
       "  'limited',\n",
       "  'marginalized',\n",
       "  'political',\n",
       "  'services',\n",
       "  'governance',\n",
       "  'evaluation',\n",
       "  'disparities',\n",
       "  'frameworks',\n",
       "  'endeavors',\n",
       "  'intricate',\n",
       "  'policy',\n",
       "  'ensure',\n",
       "  'interaction',\n",
       "  'striving',\n",
       "  'inefficiencies',\n",
       "  'continuous',\n",
       "  'dynamic',\n",
       "  'authorities',\n",
       "  'interests',\n",
       "  'economic',\n",
       "  'Despite',\n",
       "  'conditions',\n",
       "  'opportunities',\n",
       "  'projects',\n",
       "  'resilient',\n",
       "  'cities',\n",
       "  'financial',\n",
       "  'objectives',\n",
       "  'communities',\n",
       "  'development',\n",
       "  'vulnerable',\n",
       "  'adaptive',\n",
       "  'professed',\n",
       "  'implementation',\n",
       "  'bureaucratic',\n",
       "  'rapid',\n",
       "  'disadvantaged',\n",
       "  'advantages',\n",
       "  'infrastructural',\n",
       "  'allocation',\n",
       "  'frequently',\n",
       "  'adoption',\n",
       "  'spaces',\n",
       "  'Effective',\n",
       "  'inclusive',\n",
       "  'accessing',\n",
       "  'initiatives',\n",
       "  'continue',\n",
       "  'stewardship',\n",
       "  'socioeconomic',\n",
       "  'affordable',\n",
       "  'urban',\n",
       "  'fragmented',\n",
       "  'networks',\n",
       "  'ambitious',\n",
       "  'expansion']}"
      ]
     },
     "execution_count": 81,
     "metadata": {},
     "output_type": "execute_result"
    }
   ],
   "source": [
    "readability_score(text)"
   ]
  },
  {
   "cell_type": "markdown",
   "id": "b39ed2ec",
   "metadata": {},
   "source": [
    "2. Detect long sentance"
   ]
  },
  {
   "cell_type": "code",
   "execution_count": 82,
   "id": "d22a4127",
   "metadata": {},
   "outputs": [],
   "source": [
    "def detect_long_sentance(sentances, threshold=25):\n",
    "    return [sent for sent in sentances if len(sent.split()) > threshold]"
   ]
  },
  {
   "cell_type": "code",
   "execution_count": 83,
   "id": "8565580d",
   "metadata": {},
   "outputs": [
    {
     "data": {
      "text/plain": [
       "['As cities experience growth and transformation, municipal authorities must navigate the complexities of rapid development while striving to ensure the equitable allocation of resources and opportunities for all residents.',\n",
       " 'Effective urban planning demands thoughtful consideration of issues such as affordable housing, the establishment of sustainable transportation systems, public health initiatives, and the stewardship of natural resources.',\n",
       " 'These endeavors require the integration of data-driven decision-making, meaningful stakeholder engagement, and the adoption of adaptive policy frameworks to guarantee that vulnerable and marginalized communities are not excluded from the advantages of urban expansion.',\n",
       " 'Despite ambitious objectives and well-intentioned strategies, the implementation of inclusive urban development projects is frequently impeded by bureaucratic inefficiencies, limited financial resources, and competing political interests.',\n",
       " 'This ongoing reality exists in stark contrast to the professed commitment of city leaders to fostering urban spaces that are both resilient and just, highlighting the need for ongoing evaluation, innovation, and collaboration in urban governance.']"
      ]
     },
     "execution_count": 83,
     "metadata": {},
     "output_type": "execute_result"
    }
   ],
   "source": [
    "detect_long_sentance(sentances=sentences)"
   ]
  },
  {
   "cell_type": "markdown",
   "id": "e75e5dcf",
   "metadata": {},
   "source": [
    "3. Detect passive voice"
   ]
  },
  {
   "cell_type": "code",
   "execution_count": 84,
   "id": "c113e96f",
   "metadata": {},
   "outputs": [],
   "source": [
    "import spacy"
   ]
  },
  {
   "cell_type": "code",
   "execution_count": 85,
   "id": "4f3c8dea",
   "metadata": {},
   "outputs": [],
   "source": [
    "def detect_passive_voice(sentences):\n",
    "    passive_sentences = []\n",
    "\n",
    "    for sent in sentences:\n",
    "        doc = nlp(sent)\n",
    "        for token in doc:\n",
    "            if token.dep_ == \"nsubjpass\":\n",
    "                passive_sentences.append(sent)\n",
    "                break\n",
    "\n",
    "    return passive_sentences"
   ]
  },
  {
   "cell_type": "code",
   "execution_count": 86,
   "id": "696b0ff9",
   "metadata": {},
   "outputs": [
    {
     "data": {
      "text/plain": [
       "['As cities experience growth and transformation, municipal authorities must navigate the complexities of rapid development while striving to ensure the equitable allocation of resources and opportunities for all residents.',\n",
       " 'Effective urban planning demands thoughtful consideration of issues such as affordable housing, the establishment of sustainable transportation systems, public health initiatives, and the stewardship of natural resources.',\n",
       " 'These endeavors require the integration of data-driven decision-making, meaningful stakeholder engagement, and the adoption of adaptive policy frameworks to guarantee that vulnerable and marginalized communities are not excluded from the advantages of urban expansion.',\n",
       " 'Despite ambitious objectives and well-intentioned strategies, the implementation of inclusive urban development projects is frequently impeded by bureaucratic inefficiencies, limited financial resources, and competing political interests.',\n",
       " 'This ongoing reality exists in stark contrast to the professed commitment of city leaders to fostering urban spaces that are both resilient and just, highlighting the need for ongoing evaluation, innovation, and collaboration in urban governance.']"
      ]
     },
     "execution_count": 86,
     "metadata": {},
     "output_type": "execute_result"
    }
   ],
   "source": [
    "detect_long_sentance(sentances=sentences)"
   ]
  },
  {
   "cell_type": "markdown",
   "id": "67e4b22f",
   "metadata": {},
   "source": [
    "4. Detect ambigious structures"
   ]
  },
  {
   "cell_type": "code",
   "execution_count": 87,
   "id": "045c2f62",
   "metadata": {},
   "outputs": [],
   "source": [
    "def detect_ambiguous_structures(sentences):\n",
    "    ambiguous_keywords = [\"might\", \"could\", \"possibly\", \"maybe\", \"potentially\", \"approximately\", \"suggests\", \"appears\"]\n",
    "    return [sent for sent in sentences if any(word in sent.lower() for word in ambiguous_keywords)]"
   ]
  },
  {
   "cell_type": "code",
   "execution_count": 88,
   "id": "674a68e2",
   "metadata": {},
   "outputs": [
    {
     "data": {
      "text/plain": [
       "[]"
      ]
     },
     "execution_count": 88,
     "metadata": {},
     "output_type": "execute_result"
    }
   ],
   "source": [
    "detect_ambiguous_structures(sentences=sentences)"
   ]
  },
  {
   "cell_type": "markdown",
   "id": "92ee6580",
   "metadata": {},
   "source": [
    "5. Return the readability assesment "
   ]
  },
  {
   "cell_type": "code",
   "execution_count": 89,
   "id": "1830b6dd",
   "metadata": {},
   "outputs": [],
   "source": [
    "def assesment_data(preprocessed_text):\n",
    "\n",
    "    paragraph = \"\".join(preprocessed_text['paragraph'])\n",
    "    sentences = preprocessed_text[\"sentences\"]\n",
    "\n",
    "    return{\n",
    "        \"readability_score\" : readability_score(paragraph),\n",
    "        \"long_sentences\" : detect_long_sentance(sentences),\n",
    "        \"passive_voice\" : detect_passive_voice(sentences),\n",
    "        \"detect_ambiguous_structures\" : detect_ambiguous_structures(sentences),\n",
    "    }"
   ]
  },
  {
   "cell_type": "code",
   "execution_count": 90,
   "id": "20a162a0",
   "metadata": {},
   "outputs": [],
   "source": [
    "results = assesment_data(preprocessed_text)"
   ]
  },
  {
   "cell_type": "markdown",
   "id": "c45f4cdb",
   "metadata": {},
   "source": [
    "Text Simplification"
   ]
  },
  {
   "cell_type": "markdown",
   "id": "5a122ca4",
   "metadata": {},
   "source": [
    "1. Universal replacement"
   ]
  },
  {
   "cell_type": "code",
   "execution_count": 91,
   "id": "4b854f9a",
   "metadata": {},
   "outputs": [],
   "source": [
    "UNIVERSAL_REPLACEMENTS = {\n",
    "    \"subsequently\": \"later\",\n",
    "    \"nevertheless\": \"however\", \n",
    "    \"furthermore\": \"also\",\n",
    "    \"demonstrate\": \"show\",\n",
    "    \"facilitate\": \"help\",\n",
    "    \"utilize\": \"use\",\n",
    "    \"implement\": \"put into practice\",\n",
    "    \"establish\": \"set up\",\n",
    "    \"maintain\": \"keep\",\n",
    "    \"ensure\": \"make sure\",\n",
    "    \"require\": \"need\",\n",
    "    \"provide\": \"give\",\n",
    "    \"determine\": \"find out\",\n",
    "    \"indicate\": \"show\",\n",
    "    \"consider\": \"think about\",\n",
    "    \"obtain\": \"get\",\n",
    "    \"receive\": \"get\",\n",
    "    \"purchase\": \"buy\",\n",
    "    \"commence\": \"start\",\n",
    "    \"complete\": \"finish\",\n",
    "    \"continue\": \"keep going\",\n",
    "    \"include\": \"have\",\n",
    "    \"exclude\": \"leave out\",\n",
    "    \"increase\": \"make bigger\",\n",
    "    \"decrease\": \"make smaller\",\n",
    "    \"improve\": \"make better\",\n",
    "    \"reduce\": \"make less\",\n",
    "    \"eliminate\": \"remove\",\n",
    "    \"prevent\": \"stop\",\n",
    "    \"achieve\": \"reach\",\n",
    "    \"assist\": \"help\",\n",
    "    \"contribute\": \"add to\",\n",
    "    \"participate\": \"take part\",\n",
    "    \"collaborate\": \"work together\",\n",
    "    \"communicate\": \"talk\",\n",
    "    \"recommend\": \"suggest\",\n",
    "    \"advise\": \"tell\",\n",
    "    \"inform\": \"let know\",\n",
    "    \"notify\": \"tell\",\n",
    "    \"request\": \"ask for\",\n",
    "    \"submit\": \"send in\",\n",
    "    \"approve\": \"say yes to\",\n",
    "    \"reject\": \"say no to\",\n",
    "    \"accept\": \"take\",\n",
    "    \"acknowledge\": \"recognize\",\n",
    "    \"confirm\": \"make sure\",\n",
    "    \"verify\": \"check\",\n",
    "    \"examine\": \"look at\",\n",
    "    \"evaluate\": \"judge\",\n",
    "    \"assess\": \"check\",\n",
    "    \"analyze\": \"study\",\n",
    "    \"investigate\": \"look into\",\n",
    "    \"research\": \"study\",\n",
    "    \"monitor\": \"watch\",\n",
    "    \"supervise\": \"oversee\",\n",
    "    \"manage\": \"run\",\n",
    "    \"operate\": \"run\",\n",
    "    \"function\": \"work\",\n",
    "    \"perform\": \"do\",\n",
    "    \"execute\": \"carry out\",\n",
    "    \"conduct\": \"do\",\n",
    "    \"organize\": \"arrange\",\n",
    "    \"coordinate\": \"work together\",\n",
    "    \"schedule\": \"plan time\",\n",
    "    \"allocate\": \"give out\",\n",
    "    \"distribute\": \"share out\",\n",
    "    \"deliver\": \"bring\",\n",
    "    \"transport\": \"move\",\n",
    "    \"transfer\": \"move\",\n",
    "    \"relocate\": \"move\",\n",
    "    \"install\": \"put in\",\n",
    "    \"construct\": \"build\",\n",
    "    \"manufacture\": \"make\",\n",
    "    \"produce\": \"make\",\n",
    "    \"generate\": \"create\",\n",
    "    \"develop\": \"make\",\n",
    "    \"design\": \"plan\",\n",
    "    \"modify\": \"change\",\n",
    "    \"adjust\": \"change\",\n",
    "    \"adapt\": \"change to fit\",\n",
    "    \"customize\": \"make to fit\",\n",
    "    \"enhance\": \"improve\",\n",
    "    \"upgrade\": \"improve\",\n",
    "    \"update\": \"make current\",\n",
    "    \"revise\": \"change\",\n",
    "    \"edit\": \"change\",\n",
    "    \"correct\": \"fix\",\n",
    "    \"repair\": \"fix\",\n",
    "    \"resolve\": \"solve\",\n",
    "    \"address\": \"deal with\",\n",
    "    \"handle\": \"deal with\",\n",
    "    \"process\": \"deal with\",\n",
    "    \"procedure\": \"way to do\",\n",
    "    \"protocol\": \"rules\",\n",
    "    \"policy\": \"rule\",\n",
    "    \"regulation\": \"rule\",\n",
    "    \"requirement\": \"need\",\n",
    "    \"specification\": \"details\",\n",
    "    \"criteria\": \"standards\",\n",
    "    \"standard\": \"normal way\",\n",
    "    \"guideline\": \"guide\",\n",
    "    \"instruction\": \"directions\",\n",
    "    \"documentation\": \"papers\",\n",
    "    \"information\": \"facts\",\n",
    "    \"data\": \"facts\",\n",
    "    \"evidence\": \"proof\",\n",
    "    \"reference\": \"source\",\n",
    "    \"resource\": \"tool\",\n",
    "    \"material\": \"stuff\",\n",
    "    \"equipment\": \"tools\",\n",
    "    \"instrument\": \"tool\",\n",
    "    \"device\": \"machine\",\n",
    "    \"system\": \"way of doing\",\n",
    "    \"method\": \"way\",\n",
    "    \"technique\": \"way\",\n",
    "    \"approach\": \"way\",\n",
    "    \"strategy\": \"plan\",\n",
    "    \"solution\": \"answer\",\n",
    "    \"alternative\": \"other choice\",\n",
    "    \"option\": \"choice\",\n",
    "    \"opportunity\": \"chance\",\n",
    "    \"possibility\": \"chance\",\n",
    "    \"potential\": \"possible\",\n",
    "    \"capacity\": \"ability\",\n",
    "    \"capability\": \"ability\",\n",
    "    \"expertise\": \"skill\",\n",
    "    \"knowledge\": \"knowing\",\n",
    "    \"experience\": \"practice\",\n",
    "    \"qualification\": \"training\",\n",
    "    \"credential\": \"proof of training\",\n",
    "    \"certificate\": \"proof\",\n",
    "    \"license\": \"permission\",\n",
    "    \"permit\": \"permission\",\n",
    "    \"authorization\": \"permission\",\n",
    "    \"approval\": \"saying yes\",\n",
    "    \"consent\": \"saying yes\",\n",
    "    \"agreement\": \"deal\",\n",
    "    \"contract\": \"deal\",\n",
    "    \"arrangement\": \"plan\",\n",
    "    \"commitment\": \"promise\",\n",
    "    \"obligation\": \"duty\",\n",
    "    \"responsibility\": \"job\",\n",
    "    \"accountability\": \"being responsible\",\n",
    "    \"liability\": \"being responsible for\",\n",
    "    \"consequence\": \"result\",\n",
    "    \"outcome\": \"result\",\n",
    "    \"effect\": \"result\",\n",
    "    \"impact\": \"effect\",\n",
    "    \"influence\": \"effect on\",\n",
    "    \"benefit\": \"good thing\",\n",
    "    \"advantage\": \"good point\",\n",
    "    \"disadvantage\": \"bad point\",\n",
    "    \"limitation\": \"limit\",\n",
    "    \"restriction\": \"limit\",\n",
    "    \"constraint\": \"limit\",\n",
    "    \"barrier\": \"block\",\n",
    "    \"obstacle\": \"block\",\n",
    "    \"challenge\": \"hard thing\",\n",
    "    \"difficulty\": \"hard thing\",\n",
    "    \"problem\": \"trouble\",\n",
    "    \"issue\": \"problem\",\n",
    "    \"concern\": \"worry\",\n",
    "    \"risk\": \"danger\",\n",
    "    \"hazard\": \"danger\",\n",
    "    \"safety\": \"being safe\",\n",
    "    \"security\": \"being safe\",\n",
    "    \"protection\": \"keeping safe\",\n",
    "    \"prevention\": \"stopping\",\n",
    "    \"emergency\": \"urgent problem\",\n",
    "    \"urgent\": \"needs doing now\",\n",
    "    \"immediate\": \"right now\",\n",
    "    \"priority\": \"most important\",\n",
    "    \"significant\": \"important\",\n",
    "    \"essential\": \"needed\",\n",
    "    \"necessary\": \"needed\",\n",
    "    \"required\": \"needed\",\n",
    "    \"mandatory\": \"must do\",\n",
    "    \"optional\": \"choice\",\n",
    "    \"voluntary\": \"choice\",\n",
    "    \"automatic\": \"by itself\",\n",
    "    \"manual\": \"by hand\",\n",
    "    \"individual\": \"single\",\n",
    "    \"personal\": \"your own\",\n",
    "    \"private\": \"not public\",\n",
    "    \"public\": \"for everyone\",\n",
    "    \"general\": \"for most\",\n",
    "    \"specific\": \"exact\",\n",
    "    \"particular\": \"special\",\n",
    "    \"unique\": \"one of a kind\",\n",
    "    \"common\": \"normal\",\n",
    "    \"typical\": \"normal\",\n",
    "    \"standard\": \"normal\",\n",
    "    \"regular\": \"normal\",\n",
    "    \"frequent\": \"often\",\n",
    "    \"occasional\": \"sometimes\",\n",
    "    \"rare\": \"not often\",\n",
    "    \"unusual\": \"not normal\",\n",
    "    \"exceptional\": \"very special\",\n",
    "    \"extraordinary\": \"amazing\",\n",
    "    \"remarkable\": \"worth noting\",\n",
    "    \"notable\": \"worth noting\",\n",
    "    \"important\": \"matters\",\n",
    "    \"valuable\": \"worth a lot\",\n",
    "    \"useful\": \"helpful\",\n",
    "    \"effective\": \"works well\",\n",
    "    \"efficient\": \"works well with less\",\n",
    "    \"successful\": \"works\",\n",
    "    \"beneficial\": \"helpful\",\n",
    "    \"positive\": \"good\",\n",
    "    \"negative\": \"bad\",\n",
    "    \"neutral\": \"neither good nor bad\",\n",
    "    \"reasonable\": \"makes sense\",\n",
    "    \"appropriate\": \"right for\",\n",
    "    \"suitable\": \"right for\",\n",
    "    \"adequate\": \"enough\",\n",
    "    \"sufficient\": \"enough\",\n",
    "    \"insufficient\": \"not enough\",\n",
    "    \"excessive\": \"too much\",\n",
    "    \"minimum\": \"least\",\n",
    "    \"maximum\": \"most\",\n",
    "    \"average\": \"normal amount\",\n",
    "    \"approximately\": \"about\",\n",
    "    \"exactly\": \"just right\",\n",
    "    \"precisely\": \"exactly\",\n",
    "    \"accurately\": \"correctly\",\n",
    "    \"correctly\": \"right way\",\n",
    "    \"properly\": \"right way\",\n",
    "    \"effectively\": \"in a way that works\",\n",
    "    \"efficiently\": \"without waste\",\n",
    "    \"quickly\": \"fast\",\n",
    "    \"slowly\": \"not fast\",\n",
    "    \"immediately\": \"right now\",\n",
    "    \"eventually\": \"in the end\",\n",
    "    \"finally\": \"at last\",\n",
    "    \"initially\": \"at first\",\n",
    "    \"originally\": \"at first\",\n",
    "    \"previously\": \"before\",\n",
    "    \"currently\": \"now\",\n",
    "    \"presently\": \"now\",\n",
    "    \"recently\": \"not long ago\",\n",
    "    \"temporarily\": \"for a short time\",\n",
    "    \"permanently\": \"forever\",\n",
    "    \"continuously\": \"without stopping\",\n",
    "    \"frequently\": \"often\",\n",
    "    \"regularly\": \"on schedule\",\n",
    "    \"consistently\": \"always the same way\",\n",
    "    \"constantly\": \"all the time\"\n",
    "}"
   ]
  },
  {
   "cell_type": "markdown",
   "id": "ac2a3edd",
   "metadata": {},
   "source": [
    "2. lexical simplify"
   ]
  },
  {
   "cell_type": "code",
   "execution_count": 92,
   "id": "fef431a3",
   "metadata": {},
   "outputs": [],
   "source": [
    "def lexical_simplify(text):\n",
    "    \"\"\"Replace complex words with simpler ones\"\"\"\n",
    "    words = nltk.word_tokenize(text)\n",
    "    simplified_words = []\n",
    "    \n",
    "    for word in words:\n",
    "        # Clean the word for lookup (remove punctuation)\n",
    "        clean_word = re.sub(r'[^\\w]', '', word.lower())\n",
    "        \n",
    "        if clean_word in UNIVERSAL_REPLACEMENTS:\n",
    "            replacement = UNIVERSAL_REPLACEMENTS[clean_word]\n",
    "            # Preserve original capitalization\n",
    "            if word and word[0].isupper():\n",
    "                replacement = replacement.capitalize()\n",
    "            # Keep punctuation if it was attached\n",
    "            if word != clean_word and len(word) > len(clean_word):\n",
    "                punct = word[len(clean_word):]\n",
    "                replacement += punct\n",
    "            simplified_words.append(replacement)\n",
    "        else:\n",
    "            simplified_words.append(word)\n",
    "    \n",
    "    return ' '.join(simplified_words)"
   ]
  },
  {
   "cell_type": "markdown",
   "id": "ac1239b1",
   "metadata": {},
   "source": [
    "3. Sentance split"
   ]
  },
  {
   "cell_type": "code",
   "execution_count": 93,
   "id": "d780fd8d",
   "metadata": {},
   "outputs": [],
   "source": [
    "def sentence_split(sentence, max_words=18):\n",
    "    \"\"\"Split long sentences at natural break points\"\"\"\n",
    "    words = sentence.split()\n",
    "    if len(words) <= max_words:\n",
    "        return [sentence]\n",
    "    \n",
    "    # Look for natural connectors to split on\n",
    "    connectors = [' and ', ' but ', ' however ', ' although ', ' while ', ' because ']\n",
    "    \n",
    "    for connector in connectors:\n",
    "        if connector in sentence:\n",
    "            parts = sentence.split(connector, 1)\n",
    "            if len(parts) == 2 and len(parts[0].split()) > 8:\n",
    "                first_part = parts[0].strip()\n",
    "                second_part = parts[1].strip()\n",
    "                \n",
    "                # Add proper punctuation\n",
    "                if not first_part.endswith('.'):\n",
    "                    first_part += '.'\n",
    "                if not second_part[0].isupper():\n",
    "                    second_part = second_part.capitalize()\n",
    "                if not second_part.endswith('.'):\n",
    "                    second_part += '.'\n",
    "                \n",
    "                return [first_part, second_part]\n",
    "    \n",
    "    # Fallback: split at comma\n",
    "    if ',' in sentence:\n",
    "        comma_pos = sentence.rfind(',', 0, len(sentence)//2 + 30)\n",
    "        if comma_pos > len(sentence)//4:\n",
    "            first_part = sentence[:comma_pos].strip() + '.'\n",
    "            second_part = sentence[comma_pos+1:].strip()\n",
    "            if not second_part[0].isupper():\n",
    "                second_part = second_part.capitalize()\n",
    "            if not second_part.endswith('.'):\n",
    "                second_part += '.'\n",
    "            return [first_part, second_part]\n",
    "    \n",
    "    # Last resort: split in middle\n",
    "    mid = len(words) // 2\n",
    "    first_part = ' '.join(words[:mid]) + '.'\n",
    "    second_part = ' '.join(words[mid:])\n",
    "    if not second_part[0].isupper():\n",
    "        second_part = second_part.capitalize()\n",
    "    if not second_part.endswith('.'):\n",
    "        second_part += '.'\n",
    "    \n",
    "    return [first_part, second_part]\n"
   ]
  },
  {
   "cell_type": "markdown",
   "id": "4fde4364",
   "metadata": {},
   "source": [
    "4. Fix grammar Issues"
   ]
  },
  {
   "cell_type": "code",
   "execution_count": 94,
   "id": "3948d7dc",
   "metadata": {},
   "outputs": [],
   "source": [
    "def fix_grammar_issues(sentence):\n",
    "    \"\"\"Fix common grammar problems after simplification\"\"\"\n",
    "    \n",
    "    # Fix awkward constructions\n",
    "    sentence = sentence.replace(\"putting into practice of\", \"implementing\")\n",
    "    sentence = sentence.replace(\"the improvement of\", \"improving\")\n",
    "    sentence = sentence.replace(\"the distribution of\", \"distributing\")\n",
    "    sentence = sentence.replace(\"connecting different transport connections\", \"transport connections\")\n",
    "    sentence = sentence.replace(\"rule-based following rules\", \"following regulations\")\n",
    "    sentence = sentence.replace(\"giving power\", \"empowerment\")\n",
    "    \n",
    "    # Fix spacing around punctuation\n",
    "    sentence = re.sub(r'\\s+,', ',', sentence)  # Remove space before comma\n",
    "    sentence = re.sub(r',\\s*\\.', '.', sentence)  # Remove \",.\" combinations\n",
    "    sentence = re.sub(r'\\s+\\.', '.', sentence)   # Remove space before period\n",
    "    \n",
    "    # Ensure proper sentence structure\n",
    "    sentence = sentence.strip()\n",
    "    if sentence:\n",
    "        sentence = sentence[0].upper() + sentence[1:]\n",
    "        if not sentence.endswith('.'):\n",
    "            sentence += '.'\n",
    "    \n",
    "    return sentence"
   ]
  },
  {
   "cell_type": "markdown",
   "id": "a3563c23",
   "metadata": {},
   "source": [
    "5. Merge sentance fragments"
   ]
  },
  {
   "cell_type": "code",
   "execution_count": 95,
   "id": "4c4f999c",
   "metadata": {},
   "outputs": [],
   "source": [
    "def merge_sentence_fragments(sentences):\n",
    "    \"\"\"Combine sentence fragments that start with 'And' or 'But'\"\"\"\n",
    "    merged = []\n",
    "    i = 0\n",
    "    \n",
    "    while i < len(sentences):\n",
    "        current = sentences[i].strip()\n",
    "        \n",
    "        # Check if next sentence is a fragment\n",
    "        if i + 1 < len(sentences):\n",
    "            next_sent = sentences[i + 1].strip()\n",
    "            if next_sent.startswith(('And ', 'But ', 'Or ')):\n",
    "                # Merge with previous sentence\n",
    "                connector = next_sent.split()[0].lower()\n",
    "                rest = ' '.join(next_sent.split()[1:])\n",
    "                \n",
    "                # Remove period from current sentence and add connector\n",
    "                if current.endswith('.'):\n",
    "                    current = current[:-1]\n",
    "                merged_sentence = f\"{current} {connector} {rest}\"\n",
    "                merged.append(merged_sentence)\n",
    "                i += 2  # Skip both sentences\n",
    "                continue\n",
    "        \n",
    "        merged.append(current)\n",
    "        i += 1\n",
    "    \n",
    "    return merged"
   ]
  },
  {
   "cell_type": "markdown",
   "id": "c4e8c008",
   "metadata": {},
   "source": [
    "6. Apply all simplification Techniques"
   ]
  },
  {
   "cell_type": "code",
   "execution_count": 96,
   "id": "ef23e1fb",
   "metadata": {},
   "outputs": [],
   "source": [
    "def comprehensive_simplify(text):\n",
    "    \"\"\"Apply all simplification techniques - MAIN FUNCTION\"\"\"\n",
    "    \n",
    "    # Get readability to determine processing level\n",
    "    grade_level = textstat.flesch_kincaid_grade(text)\n",
    "    \n",
    "    if grade_level <= 12:\n",
    "        max_sentence_length = 20\n",
    "        print(f\"Text complexity: Grade {grade_level:.1f} - moderate simplification\")\n",
    "    elif grade_level <= 20:\n",
    "        max_sentence_length = 18\n",
    "        print(f\"Text complexity: Grade {grade_level:.1f} - heavy simplification\")\n",
    "    else:\n",
    "        max_sentence_length = 15\n",
    "        print(f\"Text complexity: Grade {grade_level:.1f} - maximum simplification\")\n",
    "    \n",
    "    # Process sentences\n",
    "    sentences = nltk.sent_tokenize(text)\n",
    "    simplified_sentences = []\n",
    "    \n",
    "    for sentence in sentences:\n",
    "        # Step 1: Split long sentences first\n",
    "        split_sentences = sentence_split(sentence, max_sentence_length)\n",
    "        \n",
    "        for split_sent in split_sentences:\n",
    "            # Step 2: Simplify vocabulary\n",
    "            simplified = lexical_simplify(split_sent)\n",
    "            # Step 3: Fix grammar issues\n",
    "            simplified = fix_grammar_issues(simplified)\n",
    "            simplified_sentences.append(simplified)\n",
    "    \n",
    "    # Step 4: Merge fragments\n",
    "    simplified_sentences = merge_sentence_fragments(simplified_sentences)\n",
    "    \n",
    "    return simplified_sentences"
   ]
  },
  {
   "cell_type": "markdown",
   "id": "41eff0f5",
   "metadata": {},
   "source": [
    "7. Calculate similarity"
   ]
  },
  {
   "cell_type": "code",
   "execution_count": 97,
   "id": "02f0b8da",
   "metadata": {},
   "outputs": [],
   "source": [
    "def calculate_similarity(original, simplified_list):\n",
    "    \"\"\"Check how much meaning is preserved\"\"\"\n",
    "    simplified_text = ' '.join(simplified_list)\n",
    "    \n",
    "    orig_words = set(original.lower().split())\n",
    "    simp_words = set(simplified_text.lower().split())\n",
    "        \n",
    "    # Account for known replacements\n",
    "    adjusted_simp = set()\n",
    "    for word in simp_words:\n",
    "        original_word = None\n",
    "        for complex_word, simple_word in UNIVERSAL_REPLACEMENTS.items():\n",
    "            if simple_word.lower() == word.lower():\n",
    "                original_word = complex_word\n",
    "                break\n",
    "        \n",
    "        if original_word and original_word in orig_words:\n",
    "            adjusted_simp.add(original_word)\n",
    "        else:\n",
    "            adjusted_simp.add(word.lower())\n",
    "    \n",
    "    overlap = len(orig_words.intersection(adjusted_simp))\n",
    "    total = len(orig_words.union(adjusted_simp))\n",
    "    \n",
    "    return overlap / total if total > 0 else 0"
   ]
  },
  {
   "cell_type": "code",
   "execution_count": 98,
   "id": "d31c907e",
   "metadata": {},
   "outputs": [
    {
     "name": "stdout",
     "output_type": "stream",
     "text": [
      "Text complexity: Grade 22.6 - maximum simplification\n",
      "\n",
      "=== UNIVERSAL DYSLEXIALENS SIMPLIFICATION ===\n",
      "Original text grade level: 22.6\n",
      "Difficult words: 119\n",
      "Text complexity: Grade 22.6 - maximum simplification\n",
      "\n",
      "=== SIMPLIFIED TEXT ===\n",
      "1. Urban environments are dynamic and multifaceted, shaped by the continuous interaction of diverse populations.\n",
      "2. Intricate economic activities, and expansive infrastructural networks.\n",
      "3. As cities practice growth and transformation, municipal authorities must navigate the complexities of rapid development.\n",
      "4. Striving to make sure the equitable allocation of resources and opportunities for all residents.\n",
      "5. Works well urban planning demands thoughtful consideration of issues such as affordable housing, the establishment of sustainable transportation systems, for everyone health initiatives.\n",
      "6. The stewardship of natural resources.\n",
      "7. These endeavors need the integration of data-driven decision-making, meaningful stakeholder engagement.\n",
      "8. The adoption of adaptive rule frameworks to guarantee that vulnerable and marginalized communities are not excluded from the advantages of urban expansion.\n",
      "9. Despite ambitious objectives and well-intentioned strategies.\n",
      "10. The implementation of inclusive urban development projects is often impeded by bureaucratic inefficiencies, limited financial resources, and competing political interests.\n",
      "11. Such challenges often result in delays, fragmented services, and a lack of transparency.\n",
      "12. Ultimately undermining the intended effect of these initiatives.\n",
      "13. Consequently, disadvantaged groups may keep going to face barriers in accessing needed services, endure substandard living conditions.\n",
      "14. Practice persistent socio-economic disparities.\n",
      "15. This ongoing reality exists in stark contrast to the professed promise of city leaders to fostering urban spaces that are both resilient.\n",
      "16. Just, highlighting the need for ongoing evaluation, innovation, and collaboration in urban governance.\n",
      "\n",
      "=== RESULTS ===\n",
      "Original grade level: 22.6\n",
      "Simplified grade level: 16.6\n",
      "Improvement: 6.0 grades easier\n",
      "Meaning preservation: 0.84\n",
      "\n"
     ]
    }
   ],
   "source": [
    "original_grade = textstat.flesch_kincaid_grade(text)\n",
    "difficult_words = textstat.difficult_words(text)\n",
    "simplified_sentences = comprehensive_simplify(text)\n",
    "simplified_text = ' '.join(simplified_sentences)\n",
    "final_grade = textstat.flesch_kincaid_grade(simplified_text)\n",
    "improvement = original_grade - final_grade\n",
    "similarity = calculate_similarity(text, simplified_sentences)\n",
    "\n",
    "full_result = f\"\"\"\n",
    "=== UNIVERSAL DYSLEXIALENS SIMPLIFICATION ===\n",
    "Original text grade level: {original_grade:.1f}\n",
    "Difficult words: {difficult_words}\n",
    "Text complexity: Grade {original_grade:.1f} - maximum simplification\n",
    "\n",
    "=== SIMPLIFIED TEXT ===\n",
    "\"\"\" + '\\n'.join([f\"{i+1}. {s}\" for i, s in enumerate(simplified_sentences)]) + f\"\"\"\n",
    "\n",
    "=== RESULTS ===\n",
    "Original grade level: {original_grade:.1f}\n",
    "Simplified grade level: {final_grade:.1f}\n",
    "Improvement: {improvement:.1f} grades easier\n",
    "Meaning preservation: {similarity:.2f}\n",
    "\"\"\"\n",
    "\n",
    "print(full_result)"
   ]
  },
  {
   "cell_type": "markdown",
   "id": "91ed6115",
   "metadata": {},
   "source": [
    "LLM process"
   ]
  },
  {
   "cell_type": "code",
   "execution_count": 99,
   "id": "6ad27de9",
   "metadata": {},
   "outputs": [],
   "source": [
    "import google.generativeai as genai\n",
    "import os\n",
    "from dotenv import load_dotenv"
   ]
  },
  {
   "cell_type": "code",
   "execution_count": 100,
   "id": "69e10566",
   "metadata": {},
   "outputs": [],
   "source": [
    "load_dotenv()\n",
    "gemini_api_key = os.getenv(\"gemini_api_key\")\n",
    "genai.configure(api_key=gemini_api_key)"
   ]
  },
  {
   "cell_type": "code",
   "execution_count": 101,
   "id": "59c1408c",
   "metadata": {},
   "outputs": [],
   "source": [
    "def gemini_process(text,full_result):\n",
    "\n",
    "    model = genai.GenerativeModel(\"gemini-2.5-flash\")\n",
    "\n",
    "    prompt = f\"\"\"\n",
    "    You are an expert at creating dyslexia-friendly text.\n",
    "\n",
    "    Here is the original text:\n",
    "    {text}\n",
    "\n",
    "    Here is an incomplete simplified version with the readabilty score:\n",
    "    {full_result}\n",
    "\n",
    "    Instructions:\n",
    "    - Use both the original and the simplified version to create a single, complete, easy-to-read paragraph suitable for someone with dyslexia.\n",
    "    - Make sure the meaning of the original is preserved, but use short sentences, simple words, and clear structure.\n",
    "    - Fill in any missing parts or incomplete ideas from the simplified version using the original text for context.\n",
    "    - The final result should be one clear, readable paragraph in plain language, suitable for dyslexic readers.\n",
    "\n",
    "    Return only the completed simplified paragraph.\n",
    "    \"\"\"\n",
    "\n",
    "\n",
    "    response = model.generate_content(prompt)\n",
    "\n",
    "    return response.text"
   ]
  },
  {
   "cell_type": "code",
   "execution_count": 102,
   "id": "b36eafdc",
   "metadata": {},
   "outputs": [
    {
     "data": {
      "text/plain": [
       "'Cities are busy and complex places, shaped by many different people, their jobs, and big networks like roads. As cities grow quickly, leaders must handle many hard issues. They need to make sure everyone gets a fair share of resources and opportunities. Good city planning means thinking about important things like homes people can afford, transport systems that last, ways to keep everyone healthy, and looking after nature. To do this well, cities need to use facts to make choices. They must talk to all important groups, and use flexible rules. This ensures no one, especially weaker groups, misses out on the benefits of city growth. However, even with good plans, making cities fair often faces problems. Slow paperwork, not enough money, and different political ideas can stop progress. These problems cause delays, broken services, and a lack of clarity, making good plans less effective. As a result, people who are less well-off might still struggle to get key services, live in poor conditions, and face ongoing differences in money and life. This is very different from what city leaders promise about making cities strong and fair. This shows cities must keep checking their work, try new ideas, and work together to run things better.'"
      ]
     },
     "execution_count": 102,
     "metadata": {},
     "output_type": "execute_result"
    }
   ],
   "source": [
    "gemini_process(text,full_result)"
   ]
  }
 ],
 "metadata": {
  "kernelspec": {
   "display_name": ".venv (3.12.3)",
   "language": "python",
   "name": "python3"
  },
  "language_info": {
   "codemirror_mode": {
    "name": "ipython",
    "version": 3
   },
   "file_extension": ".py",
   "mimetype": "text/x-python",
   "name": "python",
   "nbconvert_exporter": "python",
   "pygments_lexer": "ipython3",
   "version": "3.12.3"
  }
 },
 "nbformat": 4,
 "nbformat_minor": 5
}
